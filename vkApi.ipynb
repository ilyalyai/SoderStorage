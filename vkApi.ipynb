{
  "cells": [
    {
      "cell_type": "markdown",
      "metadata": {
        "id": "view-in-github",
        "colab_type": "text"
      },
      "source": [
        "<a href=\"https://colab.research.google.com/github/ilyalyai/SoderStorage/blob/main/vkApi.ipynb\" target=\"_parent\"><img src=\"https://colab.research.google.com/assets/colab-badge.svg\" alt=\"Open In Colab\"/></a>"
      ]
    },
    {
      "cell_type": "code",
      "execution_count": null,
      "metadata": {
        "colab": {
          "base_uri": "https://localhost:8080/"
        },
        "id": "u7QSZLSM1iU-",
        "outputId": "689b5ab7-267f-494f-a972-cd5db0b1cfa9"
      },
      "outputs": [
        {
          "name": "stdout",
          "output_type": "stream",
          "text": [
            "Requirement already satisfied: vk_api in /usr/local/lib/python3.7/dist-packages (11.9.7)\n",
            "Requirement already satisfied: requests in /usr/local/lib/python3.7/dist-packages (from vk_api) (2.23.0)\n",
            "Requirement already satisfied: idna<3,>=2.5 in /usr/local/lib/python3.7/dist-packages (from requests->vk_api) (2.10)\n",
            "Requirement already satisfied: certifi>=2017.4.17 in /usr/local/lib/python3.7/dist-packages (from requests->vk_api) (2021.10.8)\n",
            "Requirement already satisfied: chardet<4,>=3.0.2 in /usr/local/lib/python3.7/dist-packages (from requests->vk_api) (3.0.4)\n",
            "Requirement already satisfied: urllib3!=1.25.0,!=1.25.1,<1.26,>=1.21.1 in /usr/local/lib/python3.7/dist-packages (from requests->vk_api) (1.24.3)\n",
            "Requirement already satisfied: pymysql in /usr/local/lib/python3.7/dist-packages (1.0.2)\n"
          ]
        }
      ],
      "source": [
        "!pip install vk_api\n",
        "!pip install pymysql"
      ]
    },
    {
      "cell_type": "code",
      "execution_count": null,
      "metadata": {
        "id": "atLhCDbW1sM4"
      },
      "outputs": [],
      "source": [
        "import vk_api\n",
        "from vk_api import VkUpload\n",
        "from vk_api.bot_longpoll import VkBotLongPoll, VkBotEventType\n",
        "from vk_api.longpoll import VkLongPoll, VkEventType\n",
        "from vk_api.utils import get_random_id\n",
        "import requests\n",
        "import random\n",
        "from random import randint"
      ]
    },
    {
      "cell_type": "markdown",
      "metadata": {
        "id": "0SEb5uiNGIdz"
      },
      "source": [
        "Для бесед:"
      ]
    },
    {
      "cell_type": "code",
      "execution_count": null,
      "metadata": {
        "id": "1NvxwSqOS0Yx"
      },
      "outputs": [],
      "source": [
        "# Запрос текущей погоды\n",
        "def request_current_weather():\n",
        "  res = requests.get(\"https://api.weather.yandex.ru/v2/informers?lat=60.022476111192205&lon=30.347489915226202\", headers={'X-Yandex-API-Key': \"74e0d337-e37f-448e-97e3-6efec5ef567c\"})\n",
        "  data = res.json()\n",
        "  fact = data['fact']\n",
        "  return(str(fact['temp']) + \"\\nОщущается как:\" + str(fact['feels_like'])+\"\\nОсадки:\" + str(fact['condition']) +\"\\nВетер:\" + str(fact['wind_dir']) + ' ' + str(fact['wind_speed']) + ' meters per second\\n' + '')"
      ]
    },
    {
      "cell_type": "code",
      "execution_count": null,
      "metadata": {
        "id": "2VioICJgF9iT"
      },
      "outputs": [],
      "source": [
        "def ChechMessage(text):\n",
        "  ##Тут запихнуть доступ на сервер\n",
        "  if(not text):\n",
        "    return '';\n",
        "  if \"то ты умеешь\" in text:\n",
        "    return \"Как хорошо, что вы спросили!\\n Я умею определять погоду по запросу \\\"Че там по погоде\\\"\\nМогу оценивать что угодно по запросу \\\"Твоя оценка?\\\", \\\"Согласен?\\\" или \\\"Какова вероятность?\\\"\\n А также могу крайне экстравагантно послать!\";\n",
        "  if \"е там по погоде\" in text:\n",
        "    return request_current_weather();\n",
        "  if \"воя оценка\" in text:\n",
        "    return str(random.randint(0, 10)) + \" из 10\";\n",
        "  if \"ероятность этого\" in text:\n",
        "    return str(random.randint(0, 100)) + \"%\";\n",
        "  if \"огласен\" in text:\n",
        "    foo = ['Да', 'Нет', 'Ни в коем случае', 'На все сто', 'Я не буду даже рассуждать об этом']\n",
        "    return random.choice(foo);"
      ]
    },
    {
      "cell_type": "code",
      "execution_count": null,
      "metadata": {
        "colab": {
          "background_save": true,
          "base_uri": "https://localhost:8080/"
        },
        "id": "huea3kc6xC3-",
        "outputId": "d8777c1d-7fd7-4d9b-dab0-88b3aa719181"
      },
      "outputs": [
        {
          "name": "stdout",
          "output_type": "stream",
          "text": [
            "{'now': 1647440411, 'now_dt': '2022-03-16T14:20:11.552598Z', 'info': {'url': 'https://yandex.ru/pogoda/2?lat=60.02247611&lon=30.34748992', 'lat': 60.022476111192205, 'lon': 30.347489915226202}, 'fact': {'obs_time': 1647439200, 'temp': 5, 'feels_like': 1, 'icon': 'skc_d', 'condition': 'clear', 'wind_speed': 2, 'wind_dir': 'se', 'pressure_mm': 776, 'pressure_pa': 1034, 'humidity': 67, 'daytime': 'd', 'polar': False, 'season': 'spring', 'wind_gust': 3.7}, 'forecast': {'date': '2022-03-16', 'date_ts': 1647378000, 'week': 11, 'sunrise': '07:13', 'sunset': '19:01', 'moon_code': 15, 'moon_text': 'moon-code-15', 'parts': [{'part_name': 'evening', 'temp_min': 0, 'temp_avg': 2, 'temp_max': 5, 'wind_speed': 2.3, 'wind_gust': 4, 'wind_dir': 's', 'pressure_mm': 776, 'pressure_pa': 1034, 'humidity': 73, 'prec_mm': 0, 'prec_prob': 0, 'prec_period': 360, 'icon': 'skc_n', 'condition': 'clear', 'feels_like': -2, 'daytime': 'n', 'polar': False}, {'part_name': 'night', 'temp_min': -4, 'temp_avg': -2, 'temp_max': -1, 'wind_speed': 2.1, 'wind_gust': 3.4, 'wind_dir': 's', 'pressure_mm': 776, 'pressure_pa': 1034, 'humidity': 78, 'prec_mm': 0, 'prec_prob': 0, 'prec_period': 360, 'icon': 'skc_n', 'condition': 'clear', 'feels_like': -6, 'daytime': 'n', 'polar': False}]}}\n"
          ]
        }
      ],
      "source": [
        "while True:\n",
        "  session = requests.Session()\n",
        "  vk_session = vk_api.VkApi(token=\"\")\n",
        "  longpoll = VkBotLongPoll(vk_session, group_id=181731504)\n",
        "  vk = vk_session.get_api()\n",
        "  for event in longpoll.listen():\n",
        "    if event.type == VkBotEventType.MESSAGE_NEW:\n",
        "      if event.from_chat: #Если написали в беседе\n",
        "        message = event.obj['message'] \n",
        "        text = ChechMessage(message['text'])\n",
        "        if text:                    \n",
        "          vk.messages.send(\n",
        "            chat_id=event.chat_id,\n",
        "            random_id=get_random_id(),\n",
        "            message=text)\n",
        "      if event.from_user: #Если написали в личке\n",
        "        message = event.obj['message']\n",
        "        text = ChechMessage(message['text'])\n",
        "        if text:\n",
        "          vk.messages.send(\n",
        "              user_id=message['from_id'],\n",
        "              random_id=get_random_id(),\n",
        "              message=text)"
      ]
    }
  ],
  "metadata": {
    "colab": {
      "collapsed_sections": [],
      "name": "vkApi.ipynb",
      "provenance": [],
      "authorship_tag": "ABX9TyPoPEIccFLTP4zQ/lJKRNJD",
      "include_colab_link": true
    },
    "kernelspec": {
      "display_name": "Python 3",
      "name": "python3"
    },
    "language_info": {
      "name": "python"
    }
  },
  "nbformat": 4,
  "nbformat_minor": 0
}
